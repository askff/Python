{
  "nbformat": 4,
  "nbformat_minor": 0,
  "metadata": {
    "colab": {
      "provenance": [],
      "authorship_tag": "ABX9TyNwo8RcJeAYymjpteS/aOGV",
      "include_colab_link": true
    },
    "kernelspec": {
      "name": "python3",
      "display_name": "Python 3"
    },
    "language_info": {
      "name": "python"
    }
  },
  "cells": [
    {
      "cell_type": "markdown",
      "metadata": {
        "id": "view-in-github",
        "colab_type": "text"
      },
      "source": [
        "<a href=\"https://colab.research.google.com/github/askff/Python/blob/main/Python%204.ipynb\" target=\"_parent\"><img src=\"https://colab.research.google.com/assets/colab-badge.svg\" alt=\"Open In Colab\"/></a>"
      ]
    },
    {
      "cell_type": "code",
      "execution_count": 3,
      "metadata": {
        "colab": {
          "base_uri": "https://localhost:8080/"
        },
        "id": "ZF4nFLG_p7Oe",
        "outputId": "2204f0ff-3e12-451a-ae03-8192d68d9d5d"
      },
      "outputs": [
        {
          "output_type": "stream",
          "name": "stdout",
          "text": [
            "1.3333333333333333\n",
            "0.5\n",
            "2.0\n",
            "2\n",
            "1\n",
            "1024\n"
          ]
        }
      ],
      "source": [
        "print(4/3)\n",
        "print(1/2)\n",
        "print(4/2)\n",
        "print(7//3)\n",
        "print(7%3)\n",
        "print(2**10)"
      ]
    },
    {
      "cell_type": "code",
      "source": [
        "a=1024\n",
        "print(a)\n",
        "1024\n",
        "a += 1024\n",
        "a\n",
        "2048\n",
        "a -+ 1024\n",
        "a\n",
        "1024\n",
        "a *= 4\n",
        "a\n",
        "4096\n",
        "a /= 2\n",
        "a\n",
        "2048.0\n",
        "a //= 2\n",
        "a\n",
        "1024.0\n",
        "a %= 1022\n",
        "a\n",
        "2.0\n",
        "a **= 10\n",
        "a\n",
        "1024.0"
      ],
      "metadata": {
        "colab": {
          "base_uri": "https://localhost:8080/"
        },
        "id": "sA9FP1siqq0L",
        "outputId": "4cd302fa-46ec-4005-be94-f3e8b7b6ad4b"
      },
      "execution_count": 4,
      "outputs": [
        {
          "output_type": "stream",
          "name": "stdout",
          "text": [
            "1024\n"
          ]
        },
        {
          "output_type": "execute_result",
          "data": {
            "text/plain": [
              "1024.0"
            ]
          },
          "metadata": {},
          "execution_count": 4
        }
      ]
    },
    {
      "cell_type": "code",
      "source": [
        "divmod(5, 2)"
      ],
      "metadata": {
        "colab": {
          "base_uri": "https://localhost:8080/"
        },
        "id": "u4lwNZvYsKep",
        "outputId": "67447658-f627-41c2-9a96-dcefa6480027"
      },
      "execution_count": 8,
      "outputs": [
        {
          "output_type": "execute_result",
          "data": {
            "text/plain": [
              "(2, 1)"
            ]
          },
          "metadata": {},
          "execution_count": 8
        }
      ]
    },
    {
      "cell_type": "code",
      "source": [
        "quotient, remainder = divmod(5, 2)\n",
        "print(quotient, remainder)"
      ],
      "metadata": {
        "colab": {
          "base_uri": "https://localhost:8080/"
        },
        "id": "iPfcIgNSsLqf",
        "outputId": "e21dbee2-30a0-4c23-df07-a0621edbb1d5"
      },
      "execution_count": 7,
      "outputs": [
        {
          "output_type": "stream",
          "name": "stdout",
          "text": [
            "2 1\n"
          ]
        }
      ]
    },
    {
      "cell_type": "code",
      "source": [
        "a = 11 + 2\n",
        "b = 12 - 2\n",
        "c = 13 * 2\n",
        "d = 14 / 2\n",
        "e = 15 ** 2\n",
        "f = 16 // 2\n",
        "g = 17 % 3\n",
        "\n",
        "print(a, b, c, d, e, f, g)"
      ],
      "metadata": {
        "colab": {
          "base_uri": "https://localhost:8080/"
        },
        "id": "R8zyur5t6QS-",
        "outputId": "292b9925-e75c-4058-de22-5bc459450be1"
      },
      "execution_count": 9,
      "outputs": [
        {
          "output_type": "stream",
          "name": "stdout",
          "text": [
            "13 10 26 7.0 225 8 2\n"
          ]
        }
      ]
    },
    {
      "cell_type": "code",
      "source": [
        "a = 10\n",
        "++a\n",
        "print(a)"
      ],
      "metadata": {
        "colab": {
          "base_uri": "https://localhost:8080/"
        },
        "id": "I_tGe-Db77bI",
        "outputId": "3d1322f3-4239-4b22-9da0-d4253ff33807"
      },
      "execution_count": 10,
      "outputs": [
        {
          "output_type": "stream",
          "name": "stdout",
          "text": [
            "10\n"
          ]
        }
      ]
    },
    {
      "cell_type": "code",
      "source": [
        "a=10\n",
        "b=3\n",
        "print(\"10==3 =>\",a==b)\n",
        "print(\"10!=3 =>\",a!=b)\n",
        "print(\"10>3 =>\",a>b)\n",
        "print(\"10>=3 =>\",a>=b)\n",
        "print(\"10<3 =>\",a<b)\n",
        "print(\"10<=3 =>\",a<=b)\n",
        "print()"
      ],
      "metadata": {
        "colab": {
          "base_uri": "https://localhost:8080/"
        },
        "id": "wr3WPx1k8Z4N",
        "outputId": "24179568-c1a0-4d84-b8c4-2191f92b3f40"
      },
      "execution_count": 12,
      "outputs": [
        {
          "output_type": "stream",
          "name": "stdout",
          "text": [
            "10==3 => False\n",
            "10!=3 => True\n",
            "10>3 => True\n",
            "10>=3 => True\n",
            "10<3 => False\n",
            "10<=3 => False\n",
            "\n"
          ]
        }
      ]
    },
    {
      "cell_type": "code",
      "source": [
        ">>> bin(13)  # 10진수 13을 2진수로 변환\n",
        "'0b1101'\n",
        ">>> 0b1101   # 2진수 1101을 10진수로 변환\n",
        "13"
      ],
      "metadata": {
        "colab": {
          "base_uri": "https://localhost:8080/"
        },
        "id": "nylduYdC84G-",
        "outputId": "480de7b4-4d0e-43ed-bbfd-99bd9bf00634"
      },
      "execution_count": 14,
      "outputs": [
        {
          "output_type": "execute_result",
          "data": {
            "text/plain": [
              "13"
            ]
          },
          "metadata": {},
          "execution_count": 14
        }
      ]
    },
    {
      "cell_type": "code",
      "source": [
        ">>> int('1101',2)   # 2진수로 된 문자열 1101을 10진수로 변환\n",
        "13"
      ],
      "metadata": {
        "colab": {
          "base_uri": "https://localhost:8080/"
        },
        "id": "fqura_aE9MgI",
        "outputId": "acfae1e8-e051-4948-df35-f4fc3415774e"
      },
      "execution_count": 15,
      "outputs": [
        {
          "output_type": "execute_result",
          "data": {
            "text/plain": [
              "13"
            ]
          },
          "metadata": {},
          "execution_count": 15
        }
      ]
    },
    {
      "cell_type": "code",
      "source": [
        ">>> bin(0b1101 & 0b1001)   # 비트 AND\n",
        "'0b1001'\n",
        ">>> 13 & 9                 # 비트 AND\n",
        "9\n",
        ">>> bin(0b1101 | 0b1001)   # 비트 OR\n",
        "'0b1101'\n",
        ">>> 13 | 9                 # 비트 OR\n",
        "13\n",
        ">>> bin(0b1101 ^ 0b1001)   # 비트 XOR\n",
        "'0b100'\n",
        ">>> 13 ^ 9                 # 비트 XOR\n",
        "4\n",
        ">>> bin(~0b1101)           # 비트 NOT\n",
        "'-0b1110'\n",
        ">>> ~13                    # 비트 NOT\n",
        "-14"
      ],
      "metadata": {
        "colab": {
          "base_uri": "https://localhost:8080/"
        },
        "id": "fdrttniL9jkg",
        "outputId": "9ccd5a75-25af-44c7-a15e-c39b91eac40d"
      },
      "execution_count": 16,
      "outputs": [
        {
          "output_type": "execute_result",
          "data": {
            "text/plain": [
              "-14"
            ]
          },
          "metadata": {},
          "execution_count": 16
        }
      ]
    },
    {
      "cell_type": "code",
      "source": [
        "# 5번\n",
        "\n",
        "a = 12\n",
        "b= 8\n",
        "\n",
        "print(bin(a))\n",
        "print(bin(b))\n",
        "print(bin(a&b))\n",
        "print(' ')\n",
        "print(a&b)\n",
        "\n",
        "print(' ')\n",
        "print(bin(a))\n",
        "print(bin(b))\n",
        "print(bin(a|b))\n",
        "print(' ')\n",
        "print(a|b)\n",
        "\n",
        "print(' ')\n",
        "print(bin(a))\n",
        "print(bin(b))\n",
        "print(bin(a^b))\n",
        "print(' ')\n",
        "print(a^b)\n",
        "\n",
        "print(' ')\n",
        "print(bin(a))\n",
        "print(bin(~a))"
      ],
      "metadata": {
        "colab": {
          "base_uri": "https://localhost:8080/"
        },
        "id": "fDkXMDDc94fP",
        "outputId": "4e25b61a-778e-4811-eb46-81e63c2e773a"
      },
      "execution_count": 17,
      "outputs": [
        {
          "output_type": "stream",
          "name": "stdout",
          "text": [
            "0b1100\n",
            "0b1000\n",
            "0b1000\n",
            " \n",
            "8\n",
            " \n",
            "0b1100\n",
            "0b1000\n",
            "0b1100\n",
            " \n",
            "12\n",
            " \n",
            "0b1100\n",
            "0b1000\n",
            "0b100\n",
            " \n",
            "4\n",
            " \n",
            "0b1100\n",
            "-0b1101\n"
          ]
        }
      ]
    }
  ]
}