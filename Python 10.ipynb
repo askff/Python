{
  "nbformat": 4,
  "nbformat_minor": 0,
  "metadata": {
    "colab": {
      "provenance": [],
      "authorship_tag": "ABX9TyPCtKk/0sH9WACpmXVz2yR1",
      "include_colab_link": true
    },
    "kernelspec": {
      "name": "python3",
      "display_name": "Python 3"
    },
    "language_info": {
      "name": "python"
    }
  },
  "cells": [
    {
      "cell_type": "markdown",
      "metadata": {
        "id": "view-in-github",
        "colab_type": "text"
      },
      "source": [
        "<a href=\"https://colab.research.google.com/github/askff/Python/blob/main/Python%2010.ipynb\" target=\"_parent\"><img src=\"https://colab.research.google.com/assets/colab-badge.svg\" alt=\"Open In Colab\"/></a>"
      ]
    },
    {
      "cell_type": "code",
      "execution_count": 1,
      "metadata": {
        "colab": {
          "base_uri": "https://localhost:8080/"
        },
        "id": "Syo1ZMrTD9q9",
        "outputId": "f2db0a6a-6549-45db-8041-7fe0558aa2d6"
      },
      "outputs": [
        {
          "output_type": "stream",
          "name": "stdout",
          "text": [
            "BlockDMask\n",
            "BlockDMask\n",
            "BlockDMask\n"
          ]
        }
      ],
      "source": [
        "def func1():\n",
        "    print('BlockDMask')\n",
        "\n",
        "func1()\n",
        "func1()\n",
        "func1()"
      ]
    },
    {
      "cell_type": "code",
      "source": [
        "def func2(a,b):\n",
        "\tprint(f'{a} 곱하기 {b} = {a*b}')\n",
        "\n",
        "func2(1,2)\n",
        "func2(1,3)\n",
        "func2(2,4)"
      ],
      "metadata": {
        "colab": {
          "base_uri": "https://localhost:8080/"
        },
        "id": "OU3ygmXzE1SD",
        "outputId": "8f2628d4-8ff7-4c78-8de0-0c816b2902e9"
      },
      "execution_count": 3,
      "outputs": [
        {
          "output_type": "stream",
          "name": "stdout",
          "text": [
            "1 곱하기 2 = 2\n",
            "1 곱하기 3 = 3\n",
            "2 곱하기 4 = 8\n"
          ]
        }
      ]
    },
    {
      "cell_type": "code",
      "source": [
        "def func3():\n",
        "\treturn \"abcdefg\"\n",
        "\n",
        "a = func3()\n",
        "print(a, 'GG', sep=\" \")"
      ],
      "metadata": {
        "colab": {
          "base_uri": "https://localhost:8080/"
        },
        "id": "y1bkzqMxFOWO",
        "outputId": "c9131251-5d30-4cac-cba5-685d165228d0"
      },
      "execution_count": 4,
      "outputs": [
        {
          "output_type": "stream",
          "name": "stdout",
          "text": [
            "abcdefg GG\n"
          ]
        }
      ]
    },
    {
      "cell_type": "code",
      "source": [
        "for i in range(1,10):\n",
        "    print(f'{2}x{i} = {2*i}')\n",
        "for i in range(1,10):\n",
        "    print(f'{3}x{i} = {3*i}')\n",
        "\n",
        "print()\n",
        "print()\n",
        "print()\n",
        "\n",
        "def gugudan(num):\n",
        "    for i in range(1,10):\n",
        "        print(f'{num}x{i}={num*i}')\n",
        "    print()\n",
        "#구구단 출력\n",
        "gugudan(2)\n",
        "\n",
        "gugudan(2)"
      ],
      "metadata": {
        "colab": {
          "base_uri": "https://localhost:8080/"
        },
        "id": "XBDVIh1lFehr",
        "outputId": "69ba854c-9844-4fdc-ec51-564174aa306a"
      },
      "execution_count": 8,
      "outputs": [
        {
          "output_type": "stream",
          "name": "stdout",
          "text": [
            "2x1 = 2\n",
            "2x2 = 4\n",
            "2x3 = 6\n",
            "2x4 = 8\n",
            "2x5 = 10\n",
            "2x6 = 12\n",
            "2x7 = 14\n",
            "2x8 = 16\n",
            "2x9 = 18\n",
            "3x1 = 3\n",
            "3x2 = 6\n",
            "3x3 = 9\n",
            "3x4 = 12\n",
            "3x5 = 15\n",
            "3x6 = 18\n",
            "3x7 = 21\n",
            "3x8 = 24\n",
            "3x9 = 27\n",
            "\n",
            "\n",
            "\n",
            "2x1=2\n",
            "2x2=4\n",
            "2x3=6\n",
            "2x4=8\n",
            "2x5=10\n",
            "2x6=12\n",
            "2x7=14\n",
            "2x8=16\n",
            "2x9=18\n",
            "\n",
            "2x1=2\n",
            "2x2=4\n",
            "2x3=6\n",
            "2x4=8\n",
            "2x5=10\n",
            "2x6=12\n",
            "2x7=14\n",
            "2x8=16\n",
            "2x9=18\n",
            "\n"
          ]
        }
      ]
    },
    {
      "cell_type": "code",
      "source": [
        "#디폴트 파라미터 예제 1\n",
        "def func1(a, b=5, c=10):\n",
        "    return a + b + c\n",
        "\n",
        "func1(1,2,3)\n",
        "func1(1,2)\n",
        "func1(1)\n"
      ],
      "metadata": {
        "colab": {
          "base_uri": "https://localhost:8080/"
        },
        "id": "RRSPU7MdGqYt",
        "outputId": "24c4713d-bd9e-4496-9ec6-d545d6b943f9"
      },
      "execution_count": 10,
      "outputs": [
        {
          "output_type": "execute_result",
          "data": {
            "text/plain": [
              "16"
            ]
          },
          "metadata": {},
          "execution_count": 10
        }
      ]
    },
    {
      "cell_type": "code",
      "source": [
        "#디폴트 파라미터 예제 2\n",
        "def func2(a=10, b=20):\n",
        "    return a+b\n",
        "\n",
        "print(func2(1, 2))\n",
        "print(func2(1))\n",
        "print(func2())"
      ],
      "metadata": {
        "colab": {
          "base_uri": "https://localhost:8080/"
        },
        "id": "c5mjv3AHG0YD",
        "outputId": "25a97c81-6d02-4bd9-cfcf-9202b9bb6640"
      },
      "execution_count": 11,
      "outputs": [
        {
          "output_type": "stream",
          "name": "stdout",
          "text": [
            "3\n",
            "21\n",
            "30\n"
          ]
        }
      ]
    },
    {
      "cell_type": "code",
      "source": [
        "def func3(a = 10,b,c):\n",
        "    return a + b + c\n",
        "    func3(1,2)\n",
        "\n",
        "    func3( ,1, 2)"
      ],
      "metadata": {
        "colab": {
          "base_uri": "https://localhost:8080/",
          "height": 110
        },
        "id": "y4BxQoXZHC-Q",
        "outputId": "1a31b930-de2b-46aa-db6b-490e2a687c6e"
      },
      "execution_count": 16,
      "outputs": [
        {
          "output_type": "error",
          "ename": "SyntaxError",
          "evalue": "non-default argument follows default argument (<ipython-input-16-9a415c832190>, line 1)",
          "traceback": [
            "\u001b[0;36m  File \u001b[0;32m\"<ipython-input-16-9a415c832190>\"\u001b[0;36m, line \u001b[0;32m1\u001b[0m\n\u001b[0;31m    def func3(a = 10,b,c):\u001b[0m\n\u001b[0m                     ^\u001b[0m\n\u001b[0;31mSyntaxError\u001b[0m\u001b[0;31m:\u001b[0m non-default argument follows default argument\n"
          ]
        }
      ]
    },
    {
      "cell_type": "code",
      "source": [
        "def func6(*args):\n",
        "    a=0\n",
        "    for i in args:\n",
        "        a = a+i\n",
        "    return a\n",
        "\n",
        "b = func6(1,5)\n",
        "print(b)\n",
        "\n",
        "c=func6(2,3,4,5)\n",
        "print(c)\n",
        "\n",
        "d=func6(1,2,3,4,5,4,3,2,1)\n",
        "print(d)\n",
        "\n",
        "e=func6()\n",
        "print(e)"
      ],
      "metadata": {
        "colab": {
          "base_uri": "https://localhost:8080/"
        },
        "id": "FqQv3GHAHtiB",
        "outputId": "b4022542-382e-4cb9-dcd2-78db8411ca7c"
      },
      "execution_count": 17,
      "outputs": [
        {
          "output_type": "stream",
          "name": "stdout",
          "text": [
            "6\n",
            "14\n",
            "25\n",
            "0\n"
          ]
        }
      ]
    },
    {
      "cell_type": "code",
      "source": [
        "def test(*val):\n",
        "    for i in val:\n",
        "        print(i)\n",
        "\n",
        "test(1,'a','c',3)"
      ],
      "metadata": {
        "colab": {
          "base_uri": "https://localhost:8080/"
        },
        "id": "ryWhlVYKH1oy",
        "outputId": "31b80def-5582-4c6b-fed0-5e4c9b3597c1"
      },
      "execution_count": 18,
      "outputs": [
        {
          "output_type": "stream",
          "name": "stdout",
          "text": [
            "1\n",
            "a\n",
            "c\n",
            "3\n"
          ]
        }
      ]
    },
    {
      "cell_type": "code",
      "source": [
        "def sum_mul(choice,*val):\n",
        "    if choice =='sum':\n",
        "        result = 0\n",
        "        for i in val:\n",
        "            result = result + i\n",
        "    elif choice == 'mul':\n",
        "        result = 1\n",
        "        for i in val:\n",
        "            result = result * i\n",
        "    print()\n",
        "    return result\n",
        "\n",
        "print(sum_mul('sum',1,2,3,4,5))\n",
        "\n",
        "print(sum_mul('mul',1,2,3,4,5))"
      ],
      "metadata": {
        "colab": {
          "base_uri": "https://localhost:8080/"
        },
        "id": "FfuqsO1IH8EZ",
        "outputId": "a91abc56-4176-4ecd-8a6f-5ff250fe02d1"
      },
      "execution_count": 19,
      "outputs": [
        {
          "output_type": "stream",
          "name": "stdout",
          "text": [
            "\n",
            "15\n",
            "\n",
            "120\n"
          ]
        }
      ]
    },
    {
      "cell_type": "code",
      "source": [
        "def comp(score=0):\n",
        "    if score ==0:\n",
        "        return 0\n",
        "    elif score > 50:\n",
        "        return 2\n",
        "    else:\n",
        "        return 1\n",
        "\n",
        "grade = comp (40)\n",
        "print(\"Grade is\", grade,\"for\",40)\n",
        "\n",
        "grade = comp (80)\n",
        "print(\"Grade is\",grade,\"for\",80)\n",
        "\n",
        "grade = comp()\n",
        "print(\"Grade is\",grade,\"for no score\")"
      ],
      "metadata": {
        "colab": {
          "base_uri": "https://localhost:8080/"
        },
        "id": "bGBHSHcWID_L",
        "outputId": "84e4cb5b-8ba2-4921-d7bf-769a9594c4b5"
      },
      "execution_count": 20,
      "outputs": [
        {
          "output_type": "stream",
          "name": "stdout",
          "text": [
            "Grade is 1 for 40\n",
            "Grade is 2 for 80\n",
            "Grade is 0 for no score\n"
          ]
        }
      ]
    },
    {
      "cell_type": "code",
      "source": [
        "def report(name,age,score):\n",
        "    print(name,score)\n",
        "\n",
        "report(age=10, name=\"Kim\",score=80)\n",
        "report(\"Kim\",10,80)"
      ],
      "metadata": {
        "colab": {
          "base_uri": "https://localhost:8080/"
        },
        "id": "sTqDihWcILt4",
        "outputId": "f81477ee-4979-4442-ba0f-66bb005ce7e1"
      },
      "execution_count": 21,
      "outputs": [
        {
          "output_type": "stream",
          "name": "stdout",
          "text": [
            "Kim 80\n",
            "Kim 80\n"
          ]
        }
      ]
    }
  ]
}