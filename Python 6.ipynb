{
  "nbformat": 4,
  "nbformat_minor": 0,
  "metadata": {
    "colab": {
      "provenance": [],
      "authorship_tag": "ABX9TyPeDYrZFw1dI5wOPd65sU8O",
      "include_colab_link": true
    },
    "kernelspec": {
      "name": "python3",
      "display_name": "Python 3"
    },
    "language_info": {
      "name": "python"
    }
  },
  "cells": [
    {
      "cell_type": "markdown",
      "metadata": {
        "id": "view-in-github",
        "colab_type": "text"
      },
      "source": [
        "<a href=\"https://colab.research.google.com/github/askff/Python/blob/main/Python%206.ipynb\" target=\"_parent\"><img src=\"https://colab.research.google.com/assets/colab-badge.svg\" alt=\"Open In Colab\"/></a>"
      ]
    },
    {
      "cell_type": "code",
      "execution_count": 1,
      "metadata": {
        "colab": {
          "base_uri": "https://localhost:8080/"
        },
        "id": "A07HzzCZvQxI",
        "outputId": "4648b7f7-0443-406b-cbc8-13eb60d658f3"
      },
      "outputs": [
        {
          "output_type": "stream",
          "name": "stdout",
          "text": [
            "3\n",
            "3\n"
          ]
        }
      ],
      "source": [
        "x = input()\n",
        "print(x)"
      ]
    },
    {
      "cell_type": "code",
      "source": [
        "str = input(\"How old are you:\")\n",
        "print(str,'years old')"
      ],
      "metadata": {
        "colab": {
          "base_uri": "https://localhost:8080/"
        },
        "id": "yPluvCUGvRPX",
        "outputId": "a6caf50f-8020-44c8-9fad-24c3ffc6bdc2"
      },
      "execution_count": 2,
      "outputs": [
        {
          "output_type": "stream",
          "name": "stdout",
          "text": [
            "How old are you:20\n",
            "20 years old\n"
          ]
        }
      ]
    },
    {
      "cell_type": "code",
      "source": [
        "x = int(input('number ; '))\n",
        "print(x)"
      ],
      "metadata": {
        "colab": {
          "base_uri": "https://localhost:8080/"
        },
        "id": "39WfiCKgvRb3",
        "outputId": "8a2d3895-b275-4291-9baf-f8e9bdfd5c41"
      },
      "execution_count": 3,
      "outputs": [
        {
          "output_type": "stream",
          "name": "stdout",
          "text": [
            "number ; 3\n",
            "3\n"
          ]
        }
      ]
    },
    {
      "cell_type": "code",
      "source": [
        "x = float(input('number ; '))\n",
        "print(x)"
      ],
      "metadata": {
        "colab": {
          "base_uri": "https://localhost:8080/"
        },
        "id": "IPHxTyEhvRk-",
        "outputId": "7584af88-5fd8-40ca-b5cf-9342a56f4879"
      },
      "execution_count": 4,
      "outputs": [
        {
          "output_type": "stream",
          "name": "stdout",
          "text": [
            "number ; 5\n",
            "5.0\n"
          ]
        }
      ]
    },
    {
      "cell_type": "code",
      "source": [
        "year = input (\"This year: \")\n",
        "print(year)\n",
        "year = eval(year)\n",
        "year+=1\n",
        "print(\"Next year: \", year)"
      ],
      "metadata": {
        "colab": {
          "base_uri": "https://localhost:8080/"
        },
        "id": "NMRwr2EcvRuv",
        "outputId": "19af4208-0359-44bf-c549-140f76af4abd"
      },
      "execution_count": 5,
      "outputs": [
        {
          "output_type": "stream",
          "name": "stdout",
          "text": [
            "This year: 5\n",
            "5\n",
            "Next year:  6\n"
          ]
        }
      ]
    },
    {
      "cell_type": "code",
      "source": [
        "i = 0\n",
        "result = 0\n",
        "while i < 5:\n",
        "  a =  input(\"성적 입력 : \")\n",
        "  result += int(a)\n",
        "  i += 1\n",
        "\n",
        "print(f'평균 : {result / 5}')"
      ],
      "metadata": {
        "colab": {
          "base_uri": "https://localhost:8080/"
        },
        "id": "vrQWMph2v8Ng",
        "outputId": "c016638b-5f35-4932-bc1b-bb265b16dff8"
      },
      "execution_count": 6,
      "outputs": [
        {
          "output_type": "stream",
          "name": "stdout",
          "text": [
            "성적 입력 : 12\n",
            "성적 입력 : 12\n",
            "성적 입력 : 14\n",
            "성적 입력 : 16\n",
            "성적 입력 : 60\n",
            "평균 : 22.8\n"
          ]
        }
      ]
    },
    {
      "cell_type": "code",
      "source": [
        "test_list = ['one', 'two', 'three']\n",
        "for i in test_list:\n",
        "  print(i)"
      ],
      "metadata": {
        "colab": {
          "base_uri": "https://localhost:8080/"
        },
        "id": "m37GhBAI1QjQ",
        "outputId": "644b82e5-da9e-4a9d-e8ef-7df98912c7f5"
      },
      "execution_count": 7,
      "outputs": [
        {
          "output_type": "stream",
          "name": "stdout",
          "text": [
            "one\n",
            "two\n",
            "three\n"
          ]
        }
      ]
    },
    {
      "cell_type": "code",
      "source": [
        "for i in range(10):\n",
        "  print(i)"
      ],
      "metadata": {
        "colab": {
          "base_uri": "https://localhost:8080/"
        },
        "id": "d9UEIshc1SNn",
        "outputId": "c7744591-5716-4bc1-a2f7-f579ee217018"
      },
      "execution_count": 8,
      "outputs": [
        {
          "output_type": "stream",
          "name": "stdout",
          "text": [
            "0\n",
            "1\n",
            "2\n",
            "3\n",
            "4\n",
            "5\n",
            "6\n",
            "7\n",
            "8\n",
            "9\n"
          ]
        }
      ]
    },
    {
      "cell_type": "code",
      "source": [
        "result = 0\n",
        "for a in range(1,101):\n",
        "  result += a\n",
        "\n",
        "print(result)"
      ],
      "metadata": {
        "colab": {
          "base_uri": "https://localhost:8080/"
        },
        "id": "S_A5LbsF1WGf",
        "outputId": "580f225a-98f9-45b6-d11d-b15fbdab8773"
      },
      "execution_count": 9,
      "outputs": [
        {
          "output_type": "stream",
          "name": "stdout",
          "text": [
            "5050\n"
          ]
        }
      ]
    },
    {
      "cell_type": "code",
      "source": [
        "index = 0\n",
        "s = \"BlockDMask\"\n",
        "for a in s :\n",
        "  if a == 'k':\n",
        "    break\n",
        "\n",
        "  index+=1\n",
        "\n",
        "print(index)"
      ],
      "metadata": {
        "colab": {
          "base_uri": "https://localhost:8080/"
        },
        "id": "M0h-RbpH2MmO",
        "outputId": "98e80199-d984-4060-a1cb-3a0a7c3b8ef1"
      },
      "execution_count": 10,
      "outputs": [
        {
          "output_type": "stream",
          "name": "stdout",
          "text": [
            "4\n"
          ]
        }
      ]
    },
    {
      "cell_type": "code",
      "source": [
        "result = 0\n",
        "for a in range(1,101):\n",
        "  result += a\n",
        "\n",
        "  if result > 100:\n",
        "    print(a)\n",
        "    break\n",
        "\n",
        "    print(result)"
      ],
      "metadata": {
        "colab": {
          "base_uri": "https://localhost:8080/"
        },
        "id": "aFFPDOx_2SP3",
        "outputId": "82bf1721-219d-4452-cb41-216a073f5066"
      },
      "execution_count": 12,
      "outputs": [
        {
          "output_type": "stream",
          "name": "stdout",
          "text": [
            "14\n"
          ]
        }
      ]
    },
    {
      "cell_type": "code",
      "source": [
        "student = [180, 170, 164, 199, 182, 172, 177]\n",
        "for a in student:\n",
        "  if a>170:\n",
        "    continue\n",
        "  print(a)"
      ],
      "metadata": {
        "colab": {
          "base_uri": "https://localhost:8080/"
        },
        "id": "phXenotc2iGn",
        "outputId": "bfcbc73a-57d9-44f2-d575-1fb3f969ca9a"
      },
      "execution_count": 13,
      "outputs": [
        {
          "output_type": "stream",
          "name": "stdout",
          "text": [
            "170\n",
            "164\n"
          ]
        }
      ]
    },
    {
      "cell_type": "code",
      "source": [
        "result = 0\n",
        "for a in range(1,101):\n",
        "  if a % 2 == 1:\n",
        "    result += a\n",
        "\n",
        "print(result)"
      ],
      "metadata": {
        "colab": {
          "base_uri": "https://localhost:8080/"
        },
        "id": "PvGVPbER2kUn",
        "outputId": "8a604b0d-a5ba-4e95-f802-23464a81a4bc"
      },
      "execution_count": 14,
      "outputs": [
        {
          "output_type": "stream",
          "name": "stdout",
          "text": [
            "2500\n"
          ]
        }
      ]
    },
    {
      "cell_type": "code",
      "source": [
        "sr=['father','mother','brother']\n",
        "cnt=0\n",
        "for s in sr:\n",
        "    print(s)\n",
        "    for c in s:\n",
        "        if c == 'r':\n",
        "            cnt +=1\n",
        "print(cnt)"
      ],
      "metadata": {
        "colab": {
          "base_uri": "https://localhost:8080/"
        },
        "id": "0pyMh2HH3R1_",
        "outputId": "4d4ab91e-4891-4cdb-ec31-4ba7209bf3e0"
      },
      "execution_count": 15,
      "outputs": [
        {
          "output_type": "stream",
          "name": "stdout",
          "text": [
            "father\n",
            "mother\n",
            "brother\n",
            "4\n"
          ]
        }
      ]
    },
    {
      "cell_type": "code",
      "source": [
        "a = []\n",
        "for i in range(10):\n",
        "  a.append(0)\n",
        "\n",
        "print(a)"
      ],
      "metadata": {
        "colab": {
          "base_uri": "https://localhost:8080/"
        },
        "id": "M5RBgiVp3-Gw",
        "outputId": "06183c14-4afe-40b4-f44d-54ae5b7d8b16"
      },
      "execution_count": 16,
      "outputs": [
        {
          "output_type": "stream",
          "name": "stdout",
          "text": [
            "[0, 0, 0, 0, 0, 0, 0, 0, 0, 0]\n"
          ]
        }
      ]
    },
    {
      "cell_type": "code",
      "source": [
        "a = []\n",
        "\n",
        "for i in range(3):\n",
        "  line = []\n",
        "  for j in range(2):\n",
        "    line.append(0)\n",
        "  a.append(line)\n",
        "\n",
        "print(a)"
      ],
      "metadata": {
        "colab": {
          "base_uri": "https://localhost:8080/"
        },
        "id": "yLOdb11o3_qv",
        "outputId": "bb32245f-aacc-487e-bd28-4361813f72e9"
      },
      "execution_count": 17,
      "outputs": [
        {
          "output_type": "stream",
          "name": "stdout",
          "text": [
            "[[0, 0], [0, 0], [0, 0]]\n"
          ]
        }
      ]
    },
    {
      "cell_type": "code",
      "source": [
        "print(list(range(0,10,3)))"
      ],
      "metadata": {
        "colab": {
          "base_uri": "https://localhost:8080/"
        },
        "id": "XYuyAP4Z4Kk3",
        "outputId": "4db9fa7b-75e0-4a99-a229-9bd1792c2232"
      },
      "execution_count": 18,
      "outputs": [
        {
          "output_type": "stream",
          "name": "stdout",
          "text": [
            "[0, 3, 6, 9]\n"
          ]
        }
      ]
    },
    {
      "cell_type": "code",
      "source": [
        "print(list(range(10,0,-3)))"
      ],
      "metadata": {
        "colab": {
          "base_uri": "https://localhost:8080/"
        },
        "id": "J5siI8EF4NwH",
        "outputId": "c071d5d3-6d43-47c0-fa4f-d23cd46771b7"
      },
      "execution_count": 19,
      "outputs": [
        {
          "output_type": "stream",
          "name": "stdout",
          "text": [
            "[10, 7, 4, 1]\n"
          ]
        }
      ]
    },
    {
      "cell_type": "code",
      "source": [
        "for i in range(10, 0, -3):\n",
        "  print(i)"
      ],
      "metadata": {
        "colab": {
          "base_uri": "https://localhost:8080/"
        },
        "id": "BxBoF8_d4PKn",
        "outputId": "e62342bd-993d-41e8-c965-892a0c02d5f1"
      },
      "execution_count": 20,
      "outputs": [
        {
          "output_type": "stream",
          "name": "stdout",
          "text": [
            "10\n",
            "7\n",
            "4\n",
            "1\n"
          ]
        }
      ]
    },
    {
      "cell_type": "code",
      "source": [
        "a = ['Alice','Bob','Charlie']\n",
        "\n",
        "for name in a:\n",
        "  print(name)\n",
        "\n",
        "for i, name in enumerate(a):\n",
        "  print(i, name)"
      ],
      "metadata": {
        "colab": {
          "base_uri": "https://localhost:8080/"
        },
        "id": "nanh2oEO4aIX",
        "outputId": "32f00035-1eeb-46c5-adc2-8dca01badd74"
      },
      "execution_count": 21,
      "outputs": [
        {
          "output_type": "stream",
          "name": "stdout",
          "text": [
            "Alice\n",
            "Bob\n",
            "Charlie\n",
            "0 Alice\n",
            "1 Bob\n",
            "2 Charlie\n"
          ]
        }
      ]
    }
  ]
}