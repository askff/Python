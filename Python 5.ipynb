{
  "nbformat": 4,
  "nbformat_minor": 0,
  "metadata": {
    "colab": {
      "provenance": [],
      "authorship_tag": "ABX9TyN/G1nWw2yN4F966C7BnROW",
      "include_colab_link": true
    },
    "kernelspec": {
      "name": "python3",
      "display_name": "Python 3"
    },
    "language_info": {
      "name": "python"
    }
  },
  "cells": [
    {
      "cell_type": "markdown",
      "metadata": {
        "id": "view-in-github",
        "colab_type": "text"
      },
      "source": [
        "<a href=\"https://colab.research.google.com/github/askff/Python/blob/main/Python%205.ipynb\" target=\"_parent\"><img src=\"https://colab.research.google.com/assets/colab-badge.svg\" alt=\"Open In Colab\"/></a>"
      ]
    },
    {
      "cell_type": "code",
      "execution_count": 1,
      "metadata": {
        "colab": {
          "base_uri": "https://localhost:8080/"
        },
        "id": "1pI4Kgo6osM7",
        "outputId": "3ec60122-2008-45a8-94f2-ce17057350c3"
      },
      "outputs": [
        {
          "output_type": "stream",
          "name": "stdout",
          "text": [
            "이름이 맞습니다.\n"
          ]
        }
      ],
      "source": [
        "name = \"BlockDMask\"\n",
        "if name==\"BlockDMask\":\n",
        "    print(\"이름이 맞습니다.\")\n",
        "else:\n",
        "    print(\"이름이 틀립니다.\")\n",
        ""
      ]
    },
    {
      "cell_type": "code",
      "source": [
        "name = \"BlockDMask\"\n",
        "if name==\"BlockDMask\":\n",
        "    print(\"이름이 맞습니다.\")\n",
        "else:\n",
        "    print(\"이름이 틀립니다.\")\n",
        ""
      ],
      "metadata": {
        "colab": {
          "base_uri": "https://localhost:8080/"
        },
        "id": "vIoszvUNp6Mt",
        "outputId": "5197d73a-7328-4682-8a1d-5827f149c1a7"
      },
      "execution_count": 2,
      "outputs": [
        {
          "output_type": "stream",
          "name": "stdout",
          "text": [
            "이름이 맞습니다.\n"
          ]
        }
      ]
    },
    {
      "cell_type": "code",
      "source": [
        "a=\"사과\"\n",
        "b=\"바나나\"\n",
        "c=\"치즈\"\n",
        "if a==\"사과\"or b==\"안바나나\":\n",
        "    print(\"사과 이거나 바나나 입니다.\")\n",
        "if a == \"사과\" and b==\"바나나\":\n",
        "    print(\"사과 이고 바나나 입니다.\")\n",
        "if not c==\"사과\":\n",
        "    print(\"사과가 아니어야 합니다.\")"
      ],
      "metadata": {
        "colab": {
          "base_uri": "https://localhost:8080/"
        },
        "id": "2XWo3SYwp6iE",
        "outputId": "1c76b353-6045-49bf-a7d1-baa6eececc1e"
      },
      "execution_count": 3,
      "outputs": [
        {
          "output_type": "stream",
          "name": "stdout",
          "text": [
            "사과 이거나 바나나 입니다.\n",
            "사과 이고 바나나 입니다.\n",
            "사과가 아니어야 합니다.\n"
          ]
        }
      ]
    },
    {
      "cell_type": "code",
      "source": [
        "a = [1,2,3,4,5,6,7,8]\n",
        "if 1 in a:\n",
        "  print(\"a 리스트에 1이 포함되어있습니다.\")\n",
        "elif 10 in a:\n",
        "  print(\"a 리스트에 10이 포함되어있습니다.\")\n"
      ],
      "metadata": {
        "colab": {
          "base_uri": "https://localhost:8080/"
        },
        "id": "1jUJOS6xp6wU",
        "outputId": "6d798ef4-aec7-4cab-e909-ebaba5442f10"
      },
      "execution_count": 5,
      "outputs": [
        {
          "output_type": "stream",
          "name": "stdout",
          "text": [
            "a 리스트에 1이 포함되어있습니다.\n"
          ]
        }
      ]
    },
    {
      "cell_type": "code",
      "source": [
        "p_class = 'B'\n",
        "sel_amount =7900\n",
        "\n",
        "if p_class=='A':\n",
        "    sel_amount *=0.7\n",
        "    print(f'판매가는 {sel_amount}원입니다')\n",
        "elif p_class == 'B':\n",
        "    sel_amount *=0.85\n",
        "    print(f'판매가는 {sel_amount}원입니다')\n",
        "    print('판매가는 %f원입니다'% sel_amount)\n",
        ""
      ],
      "metadata": {
        "colab": {
          "base_uri": "https://localhost:8080/"
        },
        "id": "hKp7mxHwp6-1",
        "outputId": "df8527ea-b34d-4fe7-b2b4-f060fb803ed0"
      },
      "execution_count": 7,
      "outputs": [
        {
          "output_type": "stream",
          "name": "stdout",
          "text": [
            "판매가는 6715.0원입니다\n",
            "판매가는 6715.000000원입니다\n"
          ]
        }
      ]
    },
    {
      "cell_type": "code",
      "source": [
        "x = 11\n",
        "\n",
        "if x< 10:\n",
        "  print('x는 10보다 작아!')\n",
        "else:\n",
        "  print('x는 10보다 작아 않아!')"
      ],
      "metadata": {
        "colab": {
          "base_uri": "https://localhost:8080/"
        },
        "id": "Itdmi3Jpp7Lk",
        "outputId": "91636ae0-a7d9-4f99-c3d7-70f279577066"
      },
      "execution_count": 8,
      "outputs": [
        {
          "output_type": "stream",
          "name": "stdout",
          "text": [
            "x는 10보다 작아 않아!\n"
          ]
        }
      ]
    },
    {
      "cell_type": "code",
      "source": [
        "x = 2\n",
        "\n",
        "if x%2 == 0:\n",
        "  print('x는 짝수야!')\n",
        "else:\n",
        "  print('x는 홀수야!')"
      ],
      "metadata": {
        "colab": {
          "base_uri": "https://localhost:8080/"
        },
        "id": "8x1FVrcsp7bd",
        "outputId": "e1db71be-33a4-4bd6-d6bc-bf55c2863158"
      },
      "execution_count": 9,
      "outputs": [
        {
          "output_type": "stream",
          "name": "stdout",
          "text": [
            "x는 짝수야!\n"
          ]
        }
      ]
    },
    {
      "cell_type": "code",
      "source": [
        "x = 3\n",
        "\n",
        "if x < 10:\n",
        "  print('x는 10보다 작아!')\n",
        "  if x%2 == 0:\n",
        "    print('x는 짝수야!')\n",
        "  else:\n",
        "    print('x는 홀수야!')\n",
        "else:\n",
        "  print('x는 10보다 커!')\n",
        "  if x%2 == 0:\n",
        "    print('x는 짝수야!')\n",
        "  else:\n",
        "    print('x는 홀수야!')"
      ],
      "metadata": {
        "colab": {
          "base_uri": "https://localhost:8080/"
        },
        "id": "sCy_yLvgqcZZ",
        "outputId": "88d3f55b-1120-4672-c834-1a7aa6f7c9f5"
      },
      "execution_count": 10,
      "outputs": [
        {
          "output_type": "stream",
          "name": "stdout",
          "text": [
            "x는 10보다 작아!\n",
            "x는 홀수야!\n"
          ]
        }
      ]
    },
    {
      "cell_type": "code",
      "source": [
        "x = 3\n",
        "\n",
        "if x<10 and x%2==0:\n",
        "  print('x는 10보다 작으면서 짝수야!')\n",
        "if x<10 and not x%2==0:\n",
        "  print('x는 10보다 작으면서 홀수야!')\n",
        "if not x<10 and x%2==0:\n",
        "  print('x는 10보다 크면서 짝수야!')\n",
        "if not x<10 and not x%2==0:\n",
        "  print('x는 10보다 크면서 홀수야!')"
      ],
      "metadata": {
        "colab": {
          "base_uri": "https://localhost:8080/"
        },
        "id": "rO1S-tTjqco5",
        "outputId": "8aade544-9cb5-4cab-cd00-32af8ffd0a35"
      },
      "execution_count": 11,
      "outputs": [
        {
          "output_type": "stream",
          "name": "stdout",
          "text": [
            "x는 10보다 작으면서 홀수야!\n"
          ]
        }
      ]
    },
    {
      "cell_type": "code",
      "source": [
        "treeHit = 0\n",
        "\n",
        "while treeHit < 10:\n",
        "  treeHit += 1\n",
        "  print(\"나무를 %d번 찍었습니다.\"%treeHit)\n",
        "  if treeHit == 10:\n",
        "    print(\"나무 넘어갑니다.\")\n",
        ""
      ],
      "metadata": {
        "colab": {
          "base_uri": "https://localhost:8080/"
        },
        "id": "lmK7m47oqc0x",
        "outputId": "906cabbf-ad0c-408a-d81b-8a29c0bffe12"
      },
      "execution_count": 12,
      "outputs": [
        {
          "output_type": "stream",
          "name": "stdout",
          "text": [
            "나무를 1번 찍었습니다.\n",
            "나무를 2번 찍었습니다.\n",
            "나무를 3번 찍었습니다.\n",
            "나무를 4번 찍었습니다.\n",
            "나무를 5번 찍었습니다.\n",
            "나무를 6번 찍었습니다.\n",
            "나무를 7번 찍었습니다.\n",
            "나무를 8번 찍었습니다.\n",
            "나무를 9번 찍었습니다.\n",
            "나무를 10번 찍었습니다.\n",
            "나무 넘어갑니다.\n"
          ]
        }
      ]
    },
    {
      "cell_type": "code",
      "source": [
        "coffee = 10\n",
        "money = 300\n",
        "while money:\n",
        "  print(\"돈을 받았으니 커피를 줍니다.\")\n",
        "  coffee -= 1\n",
        "  print(\"남은 커피의 양은 %d개 입니다.\"%coffee)\n",
        "  if coffee == 0:\n",
        "    print(\"커피가 다 떨어졌습니다. 판매를 중지합니다.\")\n",
        "    break"
      ],
      "metadata": {
        "colab": {
          "base_uri": "https://localhost:8080/"
        },
        "id": "ECrjN3FUqmNw",
        "outputId": "132a6078-1fa0-4541-c66b-ca8dd7ac27d6"
      },
      "execution_count": 13,
      "outputs": [
        {
          "output_type": "stream",
          "name": "stdout",
          "text": [
            "돈을 받았으니 커피를 줍니다.\n",
            "남은 커피의 양은 9개 입니다.\n",
            "돈을 받았으니 커피를 줍니다.\n",
            "남은 커피의 양은 8개 입니다.\n",
            "돈을 받았으니 커피를 줍니다.\n",
            "남은 커피의 양은 7개 입니다.\n",
            "돈을 받았으니 커피를 줍니다.\n",
            "남은 커피의 양은 6개 입니다.\n",
            "돈을 받았으니 커피를 줍니다.\n",
            "남은 커피의 양은 5개 입니다.\n",
            "돈을 받았으니 커피를 줍니다.\n",
            "남은 커피의 양은 4개 입니다.\n",
            "돈을 받았으니 커피를 줍니다.\n",
            "남은 커피의 양은 3개 입니다.\n",
            "돈을 받았으니 커피를 줍니다.\n",
            "남은 커피의 양은 2개 입니다.\n",
            "돈을 받았으니 커피를 줍니다.\n",
            "남은 커피의 양은 1개 입니다.\n",
            "돈을 받았으니 커피를 줍니다.\n",
            "남은 커피의 양은 0개 입니다.\n",
            "커피가 다 떨어졌습니다. 판매를 중지합니다.\n"
          ]
        }
      ]
    },
    {
      "cell_type": "code",
      "source": [
        "from re import I\n",
        "#while_example_1\n",
        "i = 0\n",
        "result1 = 0\n",
        "while i < 100:\n",
        "  i += 1\n",
        "  if i % 2 == 0:\n",
        "    result1 += I\n",
        "\n",
        "print('1번 방법 : {0}'.format(result1))"
      ],
      "metadata": {
        "colab": {
          "base_uri": "https://localhost:8080/"
        },
        "id": "kW_m7UczqmZo",
        "outputId": "b516507f-73a9-477f-cbed-1c48858d2f37"
      },
      "execution_count": 14,
      "outputs": [
        {
          "output_type": "stream",
          "name": "stdout",
          "text": [
            "1번 방법 : 100\n"
          ]
        }
      ]
    },
    {
      "cell_type": "code",
      "source": [
        "j = 0\n",
        "result2 = 0\n",
        "while True:\n",
        "  if j > 100:\n",
        "    break\n",
        "\n",
        "  j +=1\n",
        "  if j % 2 == 0:\n",
        "    result2 += j\n",
        "\n",
        "print('2번 방법 (break) : {0}'.format(result2))"
      ],
      "metadata": {
        "colab": {
          "base_uri": "https://localhost:8080/"
        },
        "id": "beR0iFQlqmmA",
        "outputId": "f2b93354-6df0-4ccb-fbc7-3d1e79ffe451"
      },
      "execution_count": 15,
      "outputs": [
        {
          "output_type": "stream",
          "name": "stdout",
          "text": [
            "2번 방법 (break) : 2550\n"
          ]
        }
      ]
    },
    {
      "cell_type": "code",
      "source": [
        "k = 0\n",
        "result3 = 0\n",
        "while k < 100:\n",
        "  k += 1\n",
        "  if k % 2 != 0:\n",
        "    continue\n",
        "\n",
        "  result3 += k\n",
        "\n",
        "print('3번 방법 (continue) : {0}'.format(result3))"
      ],
      "metadata": {
        "id": "VlDAefGMqm4I"
      },
      "execution_count": null,
      "outputs": []
    }
  ]
}