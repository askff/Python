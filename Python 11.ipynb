{
  "nbformat": 4,
  "nbformat_minor": 0,
  "metadata": {
    "colab": {
      "provenance": [],
      "authorship_tag": "ABX9TyOGyTCuyT+0XzrzlHYL+z+T",
      "include_colab_link": true
    },
    "kernelspec": {
      "name": "python3",
      "display_name": "Python 3"
    },
    "language_info": {
      "name": "python"
    }
  },
  "cells": [
    {
      "cell_type": "markdown",
      "metadata": {
        "id": "view-in-github",
        "colab_type": "text"
      },
      "source": [
        "<a href=\"https://colab.research.google.com/github/askff/Python/blob/main/Python%2011.ipynb\" target=\"_parent\"><img src=\"https://colab.research.google.com/assets/colab-badge.svg\" alt=\"Open In Colab\"/></a>"
      ]
    },
    {
      "cell_type": "code",
      "execution_count": 1,
      "metadata": {
        "id": "F0zE8wKHTrXa"
      },
      "outputs": [],
      "source": [
        "f = open('ex_memo.txt','w')\n",
        "students = ['김철수', '최영', '한석규', '김태희']\n",
        "for student in students:\n",
        "    msg = student\n",
        "    f.write(msg+\"\\n\")\n",
        "f.close()\n",
        "\n",
        "\n",
        "\n",
        "file = open('hello.txt', 'w')\n",
        "file.write('Hello, world!')\n",
        "file.close()\n"
      ]
    },
    {
      "cell_type": "code",
      "source": [
        "f = open('test.txt','a', encoding='UTF-8')\n",
        "\n",
        "for i in range(4,10):\n",
        "    data = \"%d 번째 줄입니다. \\n\"%i\n",
        "    f.write(data)\n",
        "f.close()\n",
        "\n"
      ],
      "metadata": {
        "id": "Si-q_E9AT99U"
      },
      "execution_count": 2,
      "outputs": []
    },
    {
      "cell_type": "code",
      "source": [
        "dict1 = {'hello': 1, 'brother': 2}\n",
        "file1 = open(\"Original.txt\", \"w\")\n",
        "\n",
        "str1 = repr(dict1)\n",
        "file1.write(\"dict1 = \" + str1 + \"\\n\")\n",
        "\n",
        "file.close()\n",
        "\n",
        "test_file = open(\"test.txt\", \"w\")\n",
        "\n",
        "a = 1\n",
        "b = 2\n",
        "test_file.write('%d - %d = %d' %(a, b, a+b))\n",
        "\n",
        "test_file.close"
      ],
      "metadata": {
        "colab": {
          "base_uri": "https://localhost:8080/"
        },
        "id": "q1ykkXQYT-nx",
        "outputId": "38d96e6f-c9e3-4ccd-b2e4-abe64284f422"
      },
      "execution_count": 3,
      "outputs": [
        {
          "output_type": "execute_result",
          "data": {
            "text/plain": [
              "<function TextIOWrapper.close()>"
            ]
          },
          "metadata": {},
          "execution_count": 3
        }
      ]
    },
    {
      "cell_type": "code",
      "source": [
        "from random import randint\n",
        "\n",
        "with open('text.txt', 'w') as f:\n",
        "    f.write('이번주 로또 번호는 →')\n",
        "    for lotto in range(6):\n",
        "        f.write(str(randint(0, 50)) + ' , ')"
      ],
      "metadata": {
        "id": "6nQEMTbhUBUV"
      },
      "execution_count": 4,
      "outputs": []
    },
    {
      "cell_type": "code",
      "source": [
        "lines = ['안녕하세요.\\n', '파이썬\\n', '코딩 도장입니다 \\n']\n",
        "\n",
        "with open('hello.txt', 'w') as file:\n",
        "    file.writelines(lines)\n",
        "file.close()\n",
        "\n",
        "f = open(\"hz.txt\", \"a\", encoding='UTF-8')\n",
        "f.writelines([\"\\n홈짱닷컴\", \"\\nHomzzang.com\"])\n",
        "f.close()"
      ],
      "metadata": {
        "id": "nYMkBHVYUGZt"
      },
      "execution_count": 5,
      "outputs": []
    },
    {
      "cell_type": "code",
      "source": [
        "f = open('ex_memo.txt', 'w')\n",
        "students = ['김철수', '최영', '한석규', '김태희']\n",
        "for student in students:\n",
        "    msg = student\n",
        "    f.write(msg+\"\\n\")\n",
        "f.close()\n",
        "\n",
        "f = open('ex_memo2.txt', 'w')\n",
        "students = ['김철수', '최영', '한석규', '김태희']\n",
        "f.writelines('\\n'.join(students))\n",
        "f.close"
      ],
      "metadata": {
        "colab": {
          "base_uri": "https://localhost:8080/"
        },
        "id": "gkRVNg-5UI32",
        "outputId": "9c8d1e3d-c1f6-41a0-b596-4ecbbaf94705"
      },
      "execution_count": 6,
      "outputs": [
        {
          "output_type": "execute_result",
          "data": {
            "text/plain": [
              "<function TextIOWrapper.close()>"
            ]
          },
          "metadata": {},
          "execution_count": 6
        }
      ]
    },
    {
      "cell_type": "code",
      "source": [
        "f = open('ex_memo.txt', 'r')\n",
        "\n",
        "print('\\n1. read()')\n",
        "print(f'위치 : {f.tell()}')\n",
        "s1 = f.read(1)\n",
        "print(s1)\n",
        "print('\\n2. readline()')\n",
        "print(f'위치 : {f.tell()}')\n",
        "s2 = f.readline()\n",
        "print(s2)\n",
        "print('\\n3. readlines()')\n",
        "print(f'위치 : {f.tell()}')\n",
        "s3 = f.readlines()\n",
        "print(s3)"
      ],
      "metadata": {
        "colab": {
          "base_uri": "https://localhost:8080/"
        },
        "id": "YsTreZg6UNDU",
        "outputId": "b7fd8a33-3fc7-4016-a80c-d2f12b990187"
      },
      "execution_count": 7,
      "outputs": [
        {
          "output_type": "stream",
          "name": "stdout",
          "text": [
            "\n",
            "1. read()\n",
            "위치 : 0\n",
            "김\n",
            "\n",
            "2. readline()\n",
            "위치 : 3\n",
            "철수\n",
            "\n",
            "\n",
            "3. readlines()\n",
            "위치 : 10\n",
            "['최영\\n', '한석규\\n', '김태희\\n']\n"
          ]
        }
      ]
    },
    {
      "cell_type": "code",
      "source": [
        "f = open(r'text.txt')\n",
        "#f = open('test.txt', 'r')\n",
        "text = f.read()\n",
        "print(text)\n",
        "\n",
        "f.close()"
      ],
      "metadata": {
        "id": "a_giDpoPUQmg"
      },
      "execution_count": null,
      "outputs": []
    },
    {
      "cell_type": "code",
      "source": [
        "f = open(r'test.txt')\n",
        "line = f.readline()\n",
        "line = line.strip()\n",
        "print(line)\n",
        "line = f.readline()\n",
        "line = line.strip()\n",
        "print(line)\n",
        "line = f.readline()\n",
        "line = line.strip()\n",
        "print(line)\n",
        "\n",
        "f.close()"
      ],
      "metadata": {
        "colab": {
          "base_uri": "https://localhost:8080/"
        },
        "id": "7Qq2p1ejUXih",
        "outputId": "3c64305a-8b34-4f04-9f90-be8d9b253151"
      },
      "execution_count": 9,
      "outputs": [
        {
          "output_type": "stream",
          "name": "stdout",
          "text": [
            "\n",
            "\n",
            "\n"
          ]
        }
      ]
    },
    {
      "cell_type": "code",
      "source": [
        "f = open(r'text.txt')\n",
        "\n",
        "print('\\n4. seek(0), readline()')\n",
        "\n",
        "f.seek(0)\n",
        "print(f'위치 : {f.tell()}')\n",
        "\n",
        "s4 = f.readline()\n",
        "print(s4)\n",
        "\n",
        "f.close()\n"
      ],
      "metadata": {
        "id": "SNm1ymATUbbo"
      },
      "execution_count": null,
      "outputs": []
    }
  ]
}