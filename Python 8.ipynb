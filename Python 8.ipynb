{
  "nbformat": 4,
  "nbformat_minor": 0,
  "metadata": {
    "colab": {
      "provenance": [],
      "authorship_tag": "ABX9TyOgxu653lgRiPXWSRWgUFq9",
      "include_colab_link": true
    },
    "kernelspec": {
      "name": "python3",
      "display_name": "Python 3"
    },
    "language_info": {
      "name": "python"
    }
  },
  "cells": [
    {
      "cell_type": "markdown",
      "metadata": {
        "id": "view-in-github",
        "colab_type": "text"
      },
      "source": [
        "<a href=\"https://colab.research.google.com/github/askff/Python/blob/main/Python%208.ipynb\" target=\"_parent\"><img src=\"https://colab.research.google.com/assets/colab-badge.svg\" alt=\"Open In Colab\"/></a>"
      ]
    },
    {
      "cell_type": "code",
      "execution_count": 1,
      "metadata": {
        "colab": {
          "base_uri": "https://localhost:8080/"
        },
        "id": "e_ajQhGxNzPv",
        "outputId": "0d3e3a7e-7bf5-49d3-e01b-e2cad8cfde86"
      },
      "outputs": [
        {
          "output_type": "stream",
          "name": "stdout",
          "text": [
            "True\n",
            "True\n",
            "False\n",
            "False\n",
            "True\n",
            "True\n"
          ]
        }
      ],
      "source": [
        "text1 = \"네이스123\"\n",
        "text2 = \"123123\"\n",
        "text3 = \"!@#$\"\n",
        "text4 = \"!@#$1234\"\n",
        "text5 = \"wtf\"\n",
        "text6 = \"wtf123123\"\n",
        "print(text1.isalnum())\n",
        "print(text2.isalnum())\n",
        "print(text3.isalnum())\n",
        "print(text4.isalnum())\n",
        "print(text5.isalnum())\n",
        "print(text6.isalnum())\n"
      ]
    },
    {
      "cell_type": "code",
      "source": [
        "text = \"!#$$!!!!!!!!!@#231421234네123^&^#$#이!#12313_+{스a\"\n",
        "text1 = \"네이스\"\n",
        "text2 = \"123123\"\n",
        "text3 = \"!@#$\"\n",
        "check = \"\"\n",
        "print(text1.isalpha())\n",
        "print(text2.isalpha())\n",
        "print(text3.isalpha())\n",
        "for i in text:\n",
        "    if i.isalpha():\n",
        "        check +=i\n",
        "print(check)"
      ],
      "metadata": {
        "colab": {
          "base_uri": "https://localhost:8080/"
        },
        "id": "SWzSb4v0PNaQ",
        "outputId": "f0df83ff-9db6-4271-8841-2d9654535344"
      },
      "execution_count": 2,
      "outputs": [
        {
          "output_type": "stream",
          "name": "stdout",
          "text": [
            "True\n",
            "False\n",
            "False\n",
            "네이스a\n"
          ]
        }
      ]
    },
    {
      "cell_type": "code",
      "source": [
        "a = \"BlockDMask\" # 문자로만 이루어짐\n",
        "b = \"1234BLOG\"   # 문자 + 숫자\n",
        "c = \"20240425\"   # 숫자\n",
        "d = \"-0103\"      # 음수\n",
        "e = \"2.005\"      # 소수점\n",
        "f = \"5^3\"          # 5의 3제곱 기호 숫자\n",
        "g = \"3/7\"   # 수학 기로 숫자 3/7\n",
        "h = \"0\"   # 0\n",
        "i = \"0123\"\n",
        "# 0으로 시작한 숫자\n",
        "# str.isdigit(\"문자열\")\n",
        "print(f\"str.isdigit('{a})') : {str.isdigit(a)}\")\n",
        "print(f\"str.isdigit('{b})') : {str.isdigit(b)}\")\n",
        "print(f\"str.isdigit('{c})') : {str.isdigit(c)}\")\n",
        "print(f\"str.isdigit('{d})') : {str.isdigit(d)}\")\n",
        "print(f\"str.isdigit('{e})') : {str.isdigit(e)}\")\n",
        "print(f\"str.isdigit('{f})') : {str.isdigit(f)}\")\n",
        "print(f\"str.isdigit('{g})') : {str.isdigit(g)}\")\n",
        "print(f\"str.isdigit('{h})') : {str.isdigit(h)}\")\n",
        "print(f\"str.isdigit('{i})') : {str.isdigit(i)}\")\n"
      ],
      "metadata": {
        "colab": {
          "base_uri": "https://localhost:8080/"
        },
        "id": "i4qx_T6vPnL-",
        "outputId": "e7788c2b-ad43-4cf3-9524-3d26532f36ca"
      },
      "execution_count": 6,
      "outputs": [
        {
          "output_type": "stream",
          "name": "stdout",
          "text": [
            "str.isdigit('BlockDMask)') : False\n",
            "str.isdigit('1234BLOG)') : False\n",
            "str.isdigit('20240425)') : True\n",
            "str.isdigit('-0103)') : False\n",
            "str.isdigit('2.005)') : False\n",
            "str.isdigit('5^3)') : False\n",
            "str.isdigit('3/7)') : False\n",
            "str.isdigit('0)') : True\n",
            "str.isdigit('0123)') : True\n"
          ]
        }
      ]
    },
    {
      "cell_type": "code",
      "source": [
        "a='12345678'\n",
        "print(a.isdigit())\n",
        "print(a.isdecimal())\n",
        "print(a.isnumeric())"
      ],
      "metadata": {
        "colab": {
          "base_uri": "https://localhost:8080/"
        },
        "id": "1DZdDzEOQfNe",
        "outputId": "46525428-6cf7-4e73-f170-45a3639406cd"
      },
      "execution_count": 7,
      "outputs": [
        {
          "output_type": "stream",
          "name": "stdout",
          "text": [
            "True\n",
            "True\n",
            "True\n"
          ]
        }
      ]
    },
    {
      "cell_type": "code",
      "source": [
        "x='3^2'\n",
        "print()\n",
        "print(x.isdigit())\n",
        "#True\n",
        "print(x.isdecimal())\n",
        "#False\n",
        "print(x.isnumeric())"
      ],
      "metadata": {
        "colab": {
          "base_uri": "https://localhost:8080/"
        },
        "id": "2tp2uH3ZQhBc",
        "outputId": "586b58da-4484-4ac4-eeb3-c95d9065d4bf"
      },
      "execution_count": 8,
      "outputs": [
        {
          "output_type": "stream",
          "name": "stdout",
          "text": [
            "\n",
            "False\n",
            "False\n",
            "False\n"
          ]
        }
      ]
    },
    {
      "cell_type": "code",
      "source": [
        "a = \"I love Ko professor\"\n",
        "\n",
        "print(a.islower() )\n",
        "print(a.isupper() )\n",
        "print(a.upper() )\n",
        "print(a.lower() )\n"
      ],
      "metadata": {
        "colab": {
          "base_uri": "https://localhost:8080/"
        },
        "id": "qnKKV79BQ9Jo",
        "outputId": "71277761-b563-4b84-ea8b-6344e1b82de5"
      },
      "execution_count": 9,
      "outputs": [
        {
          "output_type": "stream",
          "name": "stdout",
          "text": [
            "False\n",
            "False\n",
            "I LOVE KO PROFESSOR\n",
            "i love ko professor\n"
          ]
        }
      ]
    },
    {
      "cell_type": "code",
      "source": [
        "str = \"This is string Example...wow!!!\"\n",
        "print(str.swapcase())\n",
        "\n",
        "str = \"THIsis stRINg eXample...Wow!!!   1234\"\n",
        "print(str.swapcase()"
      ],
      "metadata": {
        "colab": {
          "base_uri": "https://localhost:8080/"
        },
        "id": "9jM8ucD9RIN7",
        "outputId": "169fcc3e-7701-450e-8981-a70cfe2cdefb"
      },
      "execution_count": 10,
      "outputs": [
        {
          "output_type": "stream",
          "name": "stdout",
          "text": [
            "tHIS IS STRING eXAMPLE...WOW!!!\n",
            "thiSIS STrinG ExAMPLE...wOW!!!   1234\n"
          ]
        }
      ]
    },
    {
      "cell_type": "code",
      "source": [
        "str = \"This Is String Example...Wow!!!\"\n",
        "print(str.istitle())\n",
        "\n",
        "str = \"THIsis stRINg eXample...Wow!!!   1234\"\n",
        "print(str.istitle())"
      ],
      "metadata": {
        "colab": {
          "base_uri": "https://localhost:8080/"
        },
        "id": "uKRRSx8ORXqu",
        "outputId": "f35b7fbe-9b2b-4845-8bce-aba4f96a0ec4"
      },
      "execution_count": 11,
      "outputs": [
        {
          "output_type": "stream",
          "name": "stdout",
          "text": [
            "True\n",
            "False\n"
          ]
        }
      ]
    },
    {
      "cell_type": "code",
      "source": [
        "str = \"This Is String Example...Wow!!!\"\n",
        "print(str.istitle())\n",
        "\n",
        "str = \"THIsis stRINg eXample...Wow!!!   1234\"\n",
        "print(str.title())"
      ],
      "metadata": {
        "colab": {
          "base_uri": "https://localhost:8080/"
        },
        "id": "5vkD7exmRcBm",
        "outputId": "ea7047ab-0e87-447f-a4fb-77aef57d274f"
      },
      "execution_count": 12,
      "outputs": [
        {
          "output_type": "stream",
          "name": "stdout",
          "text": [
            "True\n",
            "Thisis String Example...Wow!!!   1234\n"
          ]
        }
      ]
    },
    {
      "cell_type": "code",
      "source": [
        "print ('hello future mobility!'.capitalize() ) # Hello world!\n",
        "print ('HELLO FUTURE MOBILITY!'.capitalize() ) # Hello world!\n"
      ],
      "metadata": {
        "colab": {
          "base_uri": "https://localhost:8080/"
        },
        "id": "s4nR66oBRs6x",
        "outputId": "cb0b845e-b933-4cad-b861-3f6a03cf449e"
      },
      "execution_count": 13,
      "outputs": [
        {
          "output_type": "stream",
          "name": "stdout",
          "text": [
            "Hello future mobility!\n",
            "Hello future mobility!\n"
          ]
        }
      ]
    }
  ]
}